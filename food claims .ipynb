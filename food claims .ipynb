{
 "cells": [
  {
   "cell_type": "code",
   "execution_count": 1,
   "id": "034f2f97",
   "metadata": {},
   "outputs": [],
   "source": [
    "import pandas as pd\n",
    "import numpy as np\n",
    "import matplotlib.pyplot as plt\n",
    "import seaborn as sns"
   ]
  },
  {
   "cell_type": "code",
   "execution_count": 2,
   "id": "11d34374",
   "metadata": {},
   "outputs": [
    {
     "data": {
      "text/html": [
       "<div>\n",
       "<style scoped>\n",
       "    .dataframe tbody tr th:only-of-type {\n",
       "        vertical-align: middle;\n",
       "    }\n",
       "\n",
       "    .dataframe tbody tr th {\n",
       "        vertical-align: top;\n",
       "    }\n",
       "\n",
       "    .dataframe thead th {\n",
       "        text-align: right;\n",
       "    }\n",
       "</style>\n",
       "<table border=\"1\" class=\"dataframe\">\n",
       "  <thead>\n",
       "    <tr style=\"text-align: right;\">\n",
       "      <th></th>\n",
       "      <th>claim_id</th>\n",
       "      <th>time_to_close</th>\n",
       "      <th>claim_amount</th>\n",
       "      <th>amount_paid</th>\n",
       "      <th>location</th>\n",
       "      <th>individuals_on_claim</th>\n",
       "      <th>linked_cases</th>\n",
       "      <th>cause</th>\n",
       "    </tr>\n",
       "  </thead>\n",
       "  <tbody>\n",
       "    <tr>\n",
       "      <th>0</th>\n",
       "      <td>1</td>\n",
       "      <td>317</td>\n",
       "      <td>R$ 74474.55</td>\n",
       "      <td>51231.37</td>\n",
       "      <td>RECIFE</td>\n",
       "      <td>15</td>\n",
       "      <td>False</td>\n",
       "      <td>unknown</td>\n",
       "    </tr>\n",
       "    <tr>\n",
       "      <th>1</th>\n",
       "      <td>2</td>\n",
       "      <td>195</td>\n",
       "      <td>R$ 52137.83</td>\n",
       "      <td>42111.30</td>\n",
       "      <td>FORTALEZA</td>\n",
       "      <td>12</td>\n",
       "      <td>True</td>\n",
       "      <td>unknown</td>\n",
       "    </tr>\n",
       "    <tr>\n",
       "      <th>2</th>\n",
       "      <td>3</td>\n",
       "      <td>183</td>\n",
       "      <td>R$ 24447.2</td>\n",
       "      <td>23986.30</td>\n",
       "      <td>SAO LUIS</td>\n",
       "      <td>10</td>\n",
       "      <td>True</td>\n",
       "      <td>meat</td>\n",
       "    </tr>\n",
       "    <tr>\n",
       "      <th>3</th>\n",
       "      <td>4</td>\n",
       "      <td>186</td>\n",
       "      <td>R$ 29006.28</td>\n",
       "      <td>27942.72</td>\n",
       "      <td>FORTALEZA</td>\n",
       "      <td>11</td>\n",
       "      <td>False</td>\n",
       "      <td>meat</td>\n",
       "    </tr>\n",
       "    <tr>\n",
       "      <th>4</th>\n",
       "      <td>5</td>\n",
       "      <td>138</td>\n",
       "      <td>R$ 19520.6</td>\n",
       "      <td>16251.06</td>\n",
       "      <td>RECIFE</td>\n",
       "      <td>11</td>\n",
       "      <td>False</td>\n",
       "      <td>vegetable</td>\n",
       "    </tr>\n",
       "  </tbody>\n",
       "</table>\n",
       "</div>"
      ],
      "text/plain": [
       "   claim_id  time_to_close claim_amount  amount_paid   location  \\\n",
       "0         1            317  R$ 74474.55     51231.37     RECIFE   \n",
       "1         2            195  R$ 52137.83     42111.30  FORTALEZA   \n",
       "2         3            183   R$ 24447.2     23986.30   SAO LUIS   \n",
       "3         4            186  R$ 29006.28     27942.72  FORTALEZA   \n",
       "4         5            138   R$ 19520.6     16251.06     RECIFE   \n",
       "\n",
       "   individuals_on_claim linked_cases      cause  \n",
       "0                    15        False    unknown  \n",
       "1                    12         True    unknown  \n",
       "2                    10         True       meat  \n",
       "3                    11        False       meat  \n",
       "4                    11        False  vegetable  "
      ]
     },
     "execution_count": 2,
     "metadata": {},
     "output_type": "execute_result"
    }
   ],
   "source": [
    "df=pd.read_csv(\"food_claims_2212.csv\")\n",
    "df.head()"
   ]
  },
  {
   "cell_type": "code",
   "execution_count": 3,
   "id": "ed6807aa",
   "metadata": {},
   "outputs": [
    {
     "data": {
      "text/plain": [
       "(2000, 8)"
      ]
     },
     "execution_count": 3,
     "metadata": {},
     "output_type": "execute_result"
    }
   ],
   "source": [
    "df.shape"
   ]
  },
  {
   "cell_type": "code",
   "execution_count": 4,
   "id": "ebb07007",
   "metadata": {},
   "outputs": [
    {
     "data": {
      "text/plain": [
       "claim_id                2000\n",
       "time_to_close            256\n",
       "claim_amount            2000\n",
       "amount_paid             1963\n",
       "location                   4\n",
       "individuals_on_claim      15\n",
       "linked_cases               2\n",
       "cause                      5\n",
       "dtype: int64"
      ]
     },
     "execution_count": 4,
     "metadata": {},
     "output_type": "execute_result"
    }
   ],
   "source": [
    "df.nunique()"
   ]
  },
  {
   "cell_type": "code",
   "execution_count": 5,
   "id": "b3cef99b",
   "metadata": {},
   "outputs": [
    {
     "name": "stdout",
     "output_type": "stream",
     "text": [
      "<class 'pandas.core.frame.DataFrame'>\n",
      "RangeIndex: 2000 entries, 0 to 1999\n",
      "Data columns (total 8 columns):\n",
      " #   Column                Non-Null Count  Dtype  \n",
      "---  ------                --------------  -----  \n",
      " 0   claim_id              2000 non-null   int64  \n",
      " 1   time_to_close         2000 non-null   int64  \n",
      " 2   claim_amount          2000 non-null   object \n",
      " 3   amount_paid           1964 non-null   float64\n",
      " 4   location              2000 non-null   object \n",
      " 5   individuals_on_claim  2000 non-null   int64  \n",
      " 6   linked_cases          1974 non-null   object \n",
      " 7   cause                 2000 non-null   object \n",
      "dtypes: float64(1), int64(3), object(4)\n",
      "memory usage: 125.1+ KB\n"
     ]
    }
   ],
   "source": [
    "df.info()"
   ]
  },
  {
   "cell_type": "code",
   "execution_count": 6,
   "id": "5b9eb4c5",
   "metadata": {},
   "outputs": [
    {
     "data": {
      "text/plain": [
       "0       False\n",
       "1       False\n",
       "2       False\n",
       "3       False\n",
       "4       False\n",
       "        ...  \n",
       "1995    False\n",
       "1996    False\n",
       "1997    False\n",
       "1998    False\n",
       "1999    False\n",
       "Length: 2000, dtype: bool"
      ]
     },
     "execution_count": 6,
     "metadata": {},
     "output_type": "execute_result"
    }
   ],
   "source": [
    "df.duplicated()"
   ]
  },
  {
   "cell_type": "code",
   "execution_count": 7,
   "id": "17ee6a7c",
   "metadata": {},
   "outputs": [
    {
     "data": {
      "text/plain": [
       "claim_id                False\n",
       "time_to_close           False\n",
       "claim_amount            False\n",
       "amount_paid              True\n",
       "location                False\n",
       "individuals_on_claim    False\n",
       "linked_cases             True\n",
       "cause                   False\n",
       "dtype: bool"
      ]
     },
     "execution_count": 7,
     "metadata": {},
     "output_type": "execute_result"
    }
   ],
   "source": [
    "df.isnull().any()"
   ]
  },
  {
   "cell_type": "code",
   "execution_count": 8,
   "id": "a2a98d32",
   "metadata": {},
   "outputs": [],
   "source": [
    "median=df['amount_paid'].median()\n",
    "df['amount_paid'].fillna(median, inplace= True)"
   ]
  },
  {
   "cell_type": "code",
   "execution_count": 9,
   "id": "ec2dfca6",
   "metadata": {},
   "outputs": [
    {
     "data": {
      "text/plain": [
       "claim_id                False\n",
       "time_to_close           False\n",
       "claim_amount            False\n",
       "amount_paid             False\n",
       "location                False\n",
       "individuals_on_claim    False\n",
       "linked_cases             True\n",
       "cause                   False\n",
       "dtype: bool"
      ]
     },
     "execution_count": 9,
     "metadata": {},
     "output_type": "execute_result"
    }
   ],
   "source": [
    "df.isnull().any()"
   ]
  },
  {
   "cell_type": "code",
   "execution_count": 10,
   "id": "7399e95d",
   "metadata": {},
   "outputs": [],
   "source": [
    "df['linked_cases'].fillna('False', inplace=True)"
   ]
  },
  {
   "cell_type": "code",
   "execution_count": 11,
   "id": "9d53319d",
   "metadata": {},
   "outputs": [
    {
     "name": "stdout",
     "output_type": "stream",
     "text": [
      "<class 'pandas.core.frame.DataFrame'>\n",
      "RangeIndex: 2000 entries, 0 to 1999\n",
      "Data columns (total 8 columns):\n",
      " #   Column                Non-Null Count  Dtype  \n",
      "---  ------                --------------  -----  \n",
      " 0   claim_id              2000 non-null   int64  \n",
      " 1   time_to_close         2000 non-null   int64  \n",
      " 2   claim_amount          2000 non-null   object \n",
      " 3   amount_paid           2000 non-null   float64\n",
      " 4   location              2000 non-null   object \n",
      " 5   individuals_on_claim  2000 non-null   int64  \n",
      " 6   linked_cases          2000 non-null   object \n",
      " 7   cause                 2000 non-null   object \n",
      "dtypes: float64(1), int64(3), object(4)\n",
      "memory usage: 125.1+ KB\n"
     ]
    }
   ],
   "source": [
    "df.info()"
   ]
  },
  {
   "cell_type": "code",
   "execution_count": 12,
   "id": "dd485bb8",
   "metadata": {},
   "outputs": [
    {
     "data": {
      "text/plain": [
       "0"
      ]
     },
     "execution_count": 12,
     "metadata": {},
     "output_type": "execute_result"
    }
   ],
   "source": [
    "(df['time_to_close']<0).sum()"
   ]
  },
  {
   "cell_type": "code",
   "execution_count": 13,
   "id": "ac360e16",
   "metadata": {},
   "outputs": [],
   "source": [
    "df[\"claim_amount\"]=df[\"claim_amount\"].str.extract(r'(\\d+.\\d+)').astype(float)"
   ]
  },
  {
   "cell_type": "code",
   "execution_count": 14,
   "id": "27399d4a",
   "metadata": {
    "scrolled": true
   },
   "outputs": [
    {
     "name": "stdout",
     "output_type": "stream",
     "text": [
      "<class 'pandas.core.frame.DataFrame'>\n",
      "RangeIndex: 2000 entries, 0 to 1999\n",
      "Data columns (total 8 columns):\n",
      " #   Column                Non-Null Count  Dtype  \n",
      "---  ------                --------------  -----  \n",
      " 0   claim_id              2000 non-null   int64  \n",
      " 1   time_to_close         2000 non-null   int64  \n",
      " 2   claim_amount          2000 non-null   float64\n",
      " 3   amount_paid           2000 non-null   float64\n",
      " 4   location              2000 non-null   object \n",
      " 5   individuals_on_claim  2000 non-null   int64  \n",
      " 6   linked_cases          2000 non-null   object \n",
      " 7   cause                 2000 non-null   object \n",
      "dtypes: float64(2), int64(3), object(3)\n",
      "memory usage: 125.1+ KB\n"
     ]
    }
   ],
   "source": [
    "df.info()"
   ]
  },
  {
   "cell_type": "code",
   "execution_count": 15,
   "id": "7bf1eacf",
   "metadata": {},
   "outputs": [
    {
     "data": {
      "text/plain": [
       "0       74474.55\n",
       "1       52137.83\n",
       "2       24447.20\n",
       "3       29006.28\n",
       "4       19520.60\n",
       "          ...   \n",
       "1995    28982.30\n",
       "1996     5188.44\n",
       "1997    11975.85\n",
       "1998    23516.28\n",
       "1999     8051.40\n",
       "Name: claim_amount, Length: 2000, dtype: float64"
      ]
     },
     "execution_count": 15,
     "metadata": {},
     "output_type": "execute_result"
    }
   ],
   "source": [
    "df[\"claim_amount\"].round(decimals=2)"
   ]
  },
  {
   "cell_type": "code",
   "execution_count": 16,
   "id": "96673f32",
   "metadata": {},
   "outputs": [
    {
     "data": {
      "text/html": [
       "<div>\n",
       "<style scoped>\n",
       "    .dataframe tbody tr th:only-of-type {\n",
       "        vertical-align: middle;\n",
       "    }\n",
       "\n",
       "    .dataframe tbody tr th {\n",
       "        vertical-align: top;\n",
       "    }\n",
       "\n",
       "    .dataframe thead th {\n",
       "        text-align: right;\n",
       "    }\n",
       "</style>\n",
       "<table border=\"1\" class=\"dataframe\">\n",
       "  <thead>\n",
       "    <tr style=\"text-align: right;\">\n",
       "      <th></th>\n",
       "      <th>claim_id</th>\n",
       "      <th>time_to_close</th>\n",
       "      <th>claim_amount</th>\n",
       "      <th>amount_paid</th>\n",
       "      <th>location</th>\n",
       "      <th>individuals_on_claim</th>\n",
       "      <th>linked_cases</th>\n",
       "      <th>cause</th>\n",
       "    </tr>\n",
       "  </thead>\n",
       "  <tbody>\n",
       "    <tr>\n",
       "      <th>0</th>\n",
       "      <td>1</td>\n",
       "      <td>317</td>\n",
       "      <td>74474.55</td>\n",
       "      <td>51231.37</td>\n",
       "      <td>RECIFE</td>\n",
       "      <td>15</td>\n",
       "      <td>False</td>\n",
       "      <td>unknown</td>\n",
       "    </tr>\n",
       "    <tr>\n",
       "      <th>1</th>\n",
       "      <td>2</td>\n",
       "      <td>195</td>\n",
       "      <td>52137.83</td>\n",
       "      <td>42111.30</td>\n",
       "      <td>FORTALEZA</td>\n",
       "      <td>12</td>\n",
       "      <td>True</td>\n",
       "      <td>unknown</td>\n",
       "    </tr>\n",
       "    <tr>\n",
       "      <th>2</th>\n",
       "      <td>3</td>\n",
       "      <td>183</td>\n",
       "      <td>24447.20</td>\n",
       "      <td>23986.30</td>\n",
       "      <td>SAO LUIS</td>\n",
       "      <td>10</td>\n",
       "      <td>True</td>\n",
       "      <td>meat</td>\n",
       "    </tr>\n",
       "    <tr>\n",
       "      <th>3</th>\n",
       "      <td>4</td>\n",
       "      <td>186</td>\n",
       "      <td>29006.28</td>\n",
       "      <td>27942.72</td>\n",
       "      <td>FORTALEZA</td>\n",
       "      <td>11</td>\n",
       "      <td>False</td>\n",
       "      <td>meat</td>\n",
       "    </tr>\n",
       "    <tr>\n",
       "      <th>4</th>\n",
       "      <td>5</td>\n",
       "      <td>138</td>\n",
       "      <td>19520.60</td>\n",
       "      <td>16251.06</td>\n",
       "      <td>RECIFE</td>\n",
       "      <td>11</td>\n",
       "      <td>False</td>\n",
       "      <td>vegetable</td>\n",
       "    </tr>\n",
       "  </tbody>\n",
       "</table>\n",
       "</div>"
      ],
      "text/plain": [
       "   claim_id  time_to_close  claim_amount  amount_paid   location  \\\n",
       "0         1            317      74474.55     51231.37     RECIFE   \n",
       "1         2            195      52137.83     42111.30  FORTALEZA   \n",
       "2         3            183      24447.20     23986.30   SAO LUIS   \n",
       "3         4            186      29006.28     27942.72  FORTALEZA   \n",
       "4         5            138      19520.60     16251.06     RECIFE   \n",
       "\n",
       "   individuals_on_claim linked_cases      cause  \n",
       "0                    15        False    unknown  \n",
       "1                    12         True    unknown  \n",
       "2                    10         True       meat  \n",
       "3                    11        False       meat  \n",
       "4                    11        False  vegetable  "
      ]
     },
     "execution_count": 16,
     "metadata": {},
     "output_type": "execute_result"
    }
   ],
   "source": [
    "df.head()"
   ]
  },
  {
   "cell_type": "code",
   "execution_count": 17,
   "id": "0258e1ef",
   "metadata": {},
   "outputs": [
    {
     "data": {
      "text/plain": [
       "meat          943\n",
       "unknown       713\n",
       "vegetable     314\n",
       "VEGETABLES     16\n",
       " Meat          14\n",
       "Name: cause, dtype: int64"
      ]
     },
     "execution_count": 17,
     "metadata": {},
     "output_type": "execute_result"
    }
   ],
   "source": [
    "df['cause'].value_counts()"
   ]
  },
  {
   "cell_type": "code",
   "execution_count": 18,
   "id": "20c9b4de",
   "metadata": {},
   "outputs": [],
   "source": [
    "df=df.replace({'cause':{' Meat':'meat','VEGETABLES':'vegetable'}})"
   ]
  },
  {
   "cell_type": "code",
   "execution_count": 19,
   "id": "4b9de901",
   "metadata": {},
   "outputs": [
    {
     "data": {
      "text/plain": [
       "meat         957\n",
       "unknown      713\n",
       "vegetable    330\n",
       "Name: cause, dtype: int64"
      ]
     },
     "execution_count": 19,
     "metadata": {},
     "output_type": "execute_result"
    }
   ],
   "source": [
    "df['cause'].value_counts()"
   ]
  },
  {
   "cell_type": "code",
   "execution_count": 20,
   "id": "5dad9f37",
   "metadata": {},
   "outputs": [
    {
     "name": "stdout",
     "output_type": "stream",
     "text": [
      "<class 'pandas.core.frame.DataFrame'>\n",
      "RangeIndex: 2000 entries, 0 to 1999\n",
      "Data columns (total 8 columns):\n",
      " #   Column                Non-Null Count  Dtype  \n",
      "---  ------                --------------  -----  \n",
      " 0   claim_id              2000 non-null   int64  \n",
      " 1   time_to_close         2000 non-null   int64  \n",
      " 2   claim_amount          2000 non-null   float64\n",
      " 3   amount_paid           2000 non-null   float64\n",
      " 4   location              2000 non-null   object \n",
      " 5   individuals_on_claim  2000 non-null   int64  \n",
      " 6   linked_cases          2000 non-null   object \n",
      " 7   cause                 2000 non-null   object \n",
      "dtypes: float64(2), int64(3), object(3)\n",
      "memory usage: 125.1+ KB\n"
     ]
    }
   ],
   "source": [
    "df.info()"
   ]
  },
  {
   "cell_type": "code",
   "execution_count": 21,
   "id": "11ba9536",
   "metadata": {},
   "outputs": [
    {
     "data": {
      "text/plain": [
       "claim_id                2000\n",
       "time_to_close            256\n",
       "claim_amount            2000\n",
       "amount_paid             1964\n",
       "location                   4\n",
       "individuals_on_claim      15\n",
       "linked_cases               3\n",
       "cause                      3\n",
       "dtype: int64"
      ]
     },
     "execution_count": 21,
     "metadata": {},
     "output_type": "execute_result"
    }
   ],
   "source": [
    "df.nunique()"
   ]
  },
  {
   "cell_type": "code",
   "execution_count": 22,
   "id": "79ecb5a0",
   "metadata": {},
   "outputs": [
    {
     "data": {
      "text/plain": [
       "False    1493\n",
       "True      481\n",
       "False      26\n",
       "Name: linked_cases, dtype: int64"
      ]
     },
     "execution_count": 22,
     "metadata": {},
     "output_type": "execute_result"
    }
   ],
   "source": [
    "df['linked_cases'].value_counts()"
   ]
  },
  {
   "cell_type": "code",
   "execution_count": 23,
   "id": "769b1aa1",
   "metadata": {},
   "outputs": [
    {
     "name": "stdout",
     "output_type": "stream",
     "text": [
      "location\n",
      "FORTALEZA    319903\n",
      "NATAL        277700\n",
      "RECIFE       874321\n",
      "SAO LUIS     529076\n",
      "Name: claim_id, dtype: int64\n"
     ]
    }
   ],
   "source": [
    "claim_number=df.groupby('location').claim_id.sum()\n",
    "print(claim_number)"
   ]
  },
  {
   "cell_type": "code",
   "execution_count": 24,
   "id": "3b336e34",
   "metadata": {},
   "outputs": [
    {
     "data": {
      "image/png": "[encoded data removed]",
      "text/plain": [
       "<Figure size 720x720 with 1 Axes>"
      ]
     },
     "metadata": {
      "needs_background": "light"
     },
     "output_type": "display_data"
    }
   ],
   "source": [
    "claim_number.plot(kind='bar', xlabel='location', ylabel='count', figsize=(10,10))\n",
    "plt.title('RECIFE is the highest claim location',fontsize=16)\n",
    "plt.suptitle('number of claims per location', fontsize=24)\n",
    "plt.grid()\n",
    "plt.savefig(\"Count_different_claims_location.png\")"
   ]
  },
  {
   "cell_type": "code",
   "execution_count": 25,
   "id": "d92a5844",
   "metadata": {},
   "outputs": [
    {
     "data": {
      "text/plain": [
       "518"
      ]
     },
     "execution_count": 25,
     "metadata": {},
     "output_type": "execute_result"
    }
   ],
   "source": [
    "df['time_to_close'].max()"
   ]
  },
  {
   "cell_type": "code",
   "execution_count": 26,
   "id": "c0691180",
   "metadata": {},
   "outputs": [
    {
     "data": {
      "text/plain": [
       "76"
      ]
     },
     "execution_count": 26,
     "metadata": {},
     "output_type": "execute_result"
    }
   ],
   "source": [
    "df['time_to_close'].min()"
   ]
  },
  {
   "cell_type": "code",
   "execution_count": 27,
   "id": "6c6f3708",
   "metadata": {},
   "outputs": [
    {
     "data": {
      "image/png": "[encoded data removed]",
      "text/plain": [
       "<Figure size 432x288 with 1 Axes>"
      ]
     },
     "metadata": {
      "needs_background": "light"
     },
     "output_type": "display_data"
    }
   ],
   "source": [
    "plt.hist(df['time_to_close'], bins=50)\n",
    "plt.title('Distribution of time to close the claims')\n",
    "plt.xlabel('Time to clsoe in days')\n",
    "plt.ylabel('Count')\n",
    "plt.savefig('Distribution of time to close the claims.png')\n",
    "plt.show()"
   ]
  },
  {
   "cell_type": "code",
   "execution_count": 63,
   "id": "ffe3c5cd",
   "metadata": {},
   "outputs": [
    {
     "data": {
      "image/png": "[encoded data removed]",
      "text/plain": [
       "<Figure size 720x576 with 1 Axes>"
      ]
     },
     "metadata": {
      "needs_background": "light"
     },
     "output_type": "display_data"
    }
   ],
   "source": [
    "plt.figure(figsize=(10,8))\n",
    "sns.boxplot(x=df['location'],y= df['time_to_close'], showmeans=True,\n",
    "           meanprops={\"marker\":\"o\",\n",
    "                       \"markerfacecolor\":\"white\",\n",
    "                      \"markeredgecolor\":\"black\",\n",
    "                      \"markersize\":\"10\"})\n",
    "plt.title('Time to close claims by location',size=18)\n",
    "plt.xlabel('location', size=16)\n",
    "plt.ylabel('time to close in days', size=16)\n",
    "plt.grid(zorder=2)\n",
    "plt.savefig(\"Time to close claims by location.png\")"
   ]
  },
  {
   "cell_type": "code",
   "execution_count": null,
   "id": "393ef026",
   "metadata": {},
   "outputs": [],
   "source": []
  }
 ],
 "metadata": {
  "kernelspec": {
   "display_name": "Python 3 (ipykernel)",
   "language": "python",
   "name": "python3"
  },
  "language_info": {
   "codemirror_mode": {
    "name": "ipython",
    "version": 3
   },
   "file_extension": ".py",
   "mimetype": "text/x-python",
   "name": "python",
   "nbconvert_exporter": "python",
   "pygments_lexer": "ipython3",
   "version": "3.9.7"
  }
 },
 "nbformat": 4,
 "nbformat_minor": 5
}
